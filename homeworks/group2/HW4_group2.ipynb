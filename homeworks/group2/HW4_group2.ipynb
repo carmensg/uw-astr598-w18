{
 "cells": [
  {
   "cell_type": "markdown",
   "metadata": {},
   "source": [
    "# ASTR 598 Astrostatistics\n",
    "## HW4\n",
    "## Hayden Smotherman, Chris Suberlak, Winnie Wang\n",
    "## To run this Notebook:\n",
    "\n",
    "description"
   ]
  },
  {
   "cell_type": "code",
   "execution_count": null,
   "metadata": {
    "collapsed": true
   },
   "outputs": [],
   "source": [
    "#importing all packages\n",
    "%matplotlib inline\n",
    "from astropy.table import Table\n",
    "from astropy.coordinates import SkyCoord\n",
    "from astropy import units as u\n",
    "from astropy.table import hstack\n",
    "from astropy.table import vstack\n",
    "import matplotlib.pyplot as plt\n",
    "from matplotlib.patches import Circle\n",
    "import os\n",
    "import numpy as np\n",
    "from astropy.io import fits\n",
    "import pandas as pd\n",
    "from scipy.stats import binned_statistic_2d as bs2d \n",
    "from scipy.stats import binned_statistic as bs1d\n",
    "import seaborn as sns\n",
    "\n",
    "#naive Bayes\n",
    "from sklearn.naive_bayes import GaussianNB\n",
    "\n",
    "#KNN\n",
    "from sklearn.neighbors import KNeighborsClassifier\n",
    "from astroML.utils import split_samples\n",
    "from astroML.utils import completeness_contamination\n",
    "\n",
    "#decision trees/random forest\n",
    "from sklearn.tree import DecisionTreeClassifier\n"
   ]
  },
  {
   "cell_type": "code",
   "execution_count": null,
   "metadata": {
    "collapsed": true
   },
   "outputs": [],
   "source": [
    "# Load the NSC data ... takes 2 mins \n",
    "# Group two is only using NSC data\n",
    "table_neg = Table.read('NSC_stripe82_Dec_negative.csv')\n",
    "table_pos = Table.read('NSC_stripe82_Dec_positive.csv')\n",
    "\n",
    "# Stack the two tables vertically \n",
    "# ( rows over rows,  since the columns ARE IDENTICAL )\n",
    "# this is even faster than any other merge, etc. \n",
    "nsc = vstack([table_neg, table_pos])"
   ]
  }
 ],
 "metadata": {
  "kernelspec": {
   "display_name": "Python 3",
   "language": "python",
   "name": "python3"
  },
  "language_info": {
   "codemirror_mode": {
    "name": "ipython",
    "version": 3
   },
   "file_extension": ".py",
   "mimetype": "text/x-python",
   "name": "python",
   "nbconvert_exporter": "python",
   "pygments_lexer": "ipython3",
   "version": "3.6.3"
  }
 },
 "nbformat": 4,
 "nbformat_minor": 2
}
